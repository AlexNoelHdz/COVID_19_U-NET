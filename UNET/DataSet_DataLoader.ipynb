{
 "cells": [
  {
   "cell_type": "code",
   "execution_count": null,
   "metadata": {},
   "outputs": [],
   "source": [
    "import numpy as np\n",
    "import matplotlib.pyplot as plt\n",
    "import os\n",
    "import random\n",
    "import torch\n",
    "from torch import nn, optim\n",
    "from torch.nn import functional as F\n",
    "from torchvision import transforms as T\n",
    "from torch.utils.data import DataLoader, Dataset, random_split\n",
    "# Imagenes\n",
    "import PIL\n",
    "from PIl import Image\n"
   ]
  },
  {
   "cell_type": "markdown",
   "metadata": {},
   "source": [
    "# GPU"
   ]
  },
  {
   "cell_type": "code",
   "execution_count": null,
   "metadata": {},
   "outputs": [],
   "source": [
    "device = torch.device(\"cuda\" if torch.cuda.is_available() else \"cpu\")\n",
    "print(device)"
   ]
  },
  {
   "cell_type": "markdown",
   "metadata": {},
   "source": [
    "Dataset and Dataloader"
   ]
  },
  {
   "cell_type": "code",
   "execution_count": null,
   "metadata": {},
   "outputs": [],
   "source": [
    "PATH = r''\n",
    "TRAIN_PATH = r''\n",
    "TRAIN_MASKS_PATH = r''\n",
    "TEST_PATH = r''"
   ]
  },
  {
   "cell_type": "markdown",
   "metadata": {},
   "source": [
    "Dataset"
   ]
  },
  {
   "cell_type": "code",
   "execution_count": null,
   "metadata": {},
   "outputs": [],
   "source": [
    "class Car_Dataset(Dataset):\n",
    "    def __init__(self, data_paths_list, masks_paths_list=None, img_transforms=None, mask_transforms=None):\n",
    "        '''\n",
    "        data_paths_list - train data paths\n",
    "        masks_paths_list - train masks paths\n",
    "        '''\n",
    "        self.train_data = data_paths_list # X\n",
    "        self.train_masks = masks_paths_list # y\n",
    "\n",
    "        self.img_transforms = img_transforms\n",
    "        self.mask_transforms = mask_transforms\n",
    "\n",
    "        # Lista de imagenes a entrenar\n",
    "        # ordenada para que esten en el mismo orden que las mascaras\n",
    "        self.images = []\n",
    "        for dir in self.train_data:\n",
    "            self.images.extend(sorted(os.listdir(dir)))\n",
    "\n",
    "        self.masks = []\n",
    "        for dir in self.train_masks:\n",
    "            self.masks.extend(sorted(os.listdir(dir)))\n",
    "\n",
    "    def __len__(self):\n",
    "        # Asegurarnos que sea el mismo numero de imagenes que de mascaras, habiendo mascaras\n",
    "        if self.train_masks is not None:\n",
    "            assert len(self.images) == len(self.masks), f'El numero de imagenes en {self.train_masks} y {self.train_data} no coincide'\n",
    "        return len(self.images)\n",
    "\n",
    "\n",
    "    def __getitem__(self, idx):\n",
    "        '''\n",
    "        Regresa un elemento del dataset en la posición de index\n",
    "        Con iter se pueden iterar todos los elementos del dataset\n",
    "\n",
    "        '''\n",
    "        image_name = os.path.join(self.train_data, self.images[idx])\n",
    "        img = Image.open(image_name)\n",
    "\n",
    "        # Aplicar transformaciones \n",
    "        trans = T.ToTensor() # Defaul transformation\n",
    "        if self.img_transforms is None:\n",
    "            img = self.img_transforms(img)\n",
    "        else:\n",
    "            img = trans(img)\n",
    "        \n",
    "        if self.train_masks is None:\n",
    "            return img\n",
    "        else: \n",
    "            mask_name = os.path.join(self.train_masks, self.masks[idx])\n",
    "            mask = Image.open(mask_name)\n",
    "            # Aplicar transformaciones \n",
    "            if self.mask_transforms is not None:\n",
    "                mask = self.mask_transforms(mask)\n",
    "            else:\n",
    "                mask = trans(mask)\n",
    "            # Normalizamos la mascara para que sean zeros y unos\n",
    "            mask_max = mask.max().item()\n",
    "            mask /= mask_max\n",
    "            \n",
    "        # La mascara si existe\n",
    "        return img, mask"
   ]
  },
  {
   "cell_type": "markdown",
   "metadata": {},
   "source": [
    "# Transformaciones"
   ]
  },
  {
   "cell_type": "code",
   "execution_count": null,
   "metadata": {},
   "outputs": [],
   "source": [
    "transform_data = T.Compose([\n",
    "    T.Resize([224,224]),\n",
    "    T.ToTensor()\n",
    "])"
   ]
  },
  {
   "cell_type": "markdown",
   "metadata": {},
   "source": [
    "# Dataloaders"
   ]
  },
  {
   "cell_type": "code",
   "execution_count": null,
   "metadata": {},
   "outputs": [],
   "source": [
    "full_dataset = Car_Dataset(TRAIN_PATH, TRAIN_MASKS_PATH,\n",
    "                           img_transforms=transform_data,\n",
    "                           mask_transforms=transform_data)"
   ]
  },
  {
   "cell_type": "code",
   "execution_count": null,
   "metadata": {},
   "outputs": [],
   "source": [
    "len(full_dataset)"
   ]
  },
  {
   "cell_type": "code",
   "execution_count": null,
   "metadata": {},
   "outputs": [],
   "source": [
    "BATCH_SIZE = 32\n",
    "TRAIN_SIZE = int(len(full_dataset)*0.8)\n",
    "VAL_SIZE = len(full_dataset) - TRAIN_SIZE\n",
    "print(TRAIN_SIZE, VAL_SIZE)"
   ]
  },
  {
   "cell_type": "code",
   "execution_count": null,
   "metadata": {},
   "outputs": [],
   "source": [
    "train_dataset, val_dataset = random_split(full_dataset, [TRAIN_SIZE, VAL_SIZE])\n",
    "print(len(train_dataset), len(val_dataset))"
   ]
  },
  {
   "cell_type": "code",
   "execution_count": null,
   "metadata": {},
   "outputs": [],
   "source": [
    "train_loader = DataLoader(train_dataset, batch_size=BATCH_SIZE, suffle=True)\n",
    "val_loader = DataLoader(val_dataset, batch_size=BATCH_SIZE, suffle=True)"
   ]
  },
  {
   "cell_type": "code",
   "execution_count": null,
   "metadata": {},
   "outputs": [],
   "source": [
    "imgs, masks_paths_list = next(iter(train_loader))\n",
    "print(imgs.shape, masks_paths_list.shape)"
   ]
  },
  {
   "cell_type": "markdown",
   "metadata": {},
   "source": [
    "# Lets see the data"
   ]
  },
  {
   "cell_type": "code",
   "execution_count": null,
   "metadata": {},
   "outputs": [],
   "source": [
    "for i, (x,y) in enumerate(train_loader):\n",
    "    print(i, x.shape, y.shape)"
   ]
  },
  {
   "cell_type": "code",
   "execution_count": null,
   "metadata": {},
   "outputs": [],
   "source": [
    "imgs, masks_paths_list = next(iter(train_loader))\n",
    "def plot_mini_batch(imgs, masks):\n",
    "    plt.figure(figsize=(20,10))\n",
    "    for i in range(BATCH_SIZE):\n",
    "        # Filas, columnas y posición\n",
    "        plt.subplot(4, 8, i+1)\n",
    "        # De la posición i, pasa todos los canales\n",
    "        # tensor = imgs[i,...]\n",
    "        # Canales en la ultima posición (alto, ancho, canal)\n",
    "        img=imgs[i,...].permute(1,2,0).numpy() \n",
    "        mask = masks[i,...].permute(1,2,0).numpy()\n",
    "        # Muestra la imagen utilizando matplotlib.\n",
    "        plt.imshow(img)\n",
    "        # Muestra la máscara encima de la imagen con transparencia (alpha=0.5),\n",
    "        # permitiendo visualizar tanto la imagen como la máscara simultáneamente.\n",
    "        plt.imshow(mask, alpha=0.5)\n",
    "        # Desactiva los ejes para una visualización más limpia.\n",
    "        plt.axis('Off')\n",
    "    # Ajusta el layout de la figura para evitar solapamientos entre las subfiguras.\n",
    "    plt.tight_layout()\n",
    "    plt.show()\n",
    "\n",
    "plot_mini_batch(imgs, masks_paths_list)"
   ]
  }
 ],
 "metadata": {
  "kernelspec": {
   "display_name": "Python 3",
   "language": "python",
   "name": "python3"
  },
  "language_info": {
   "name": "python",
   "version": "3.11.2"
  }
 },
 "nbformat": 4,
 "nbformat_minor": 2
}
